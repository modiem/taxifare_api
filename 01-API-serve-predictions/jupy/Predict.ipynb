{
 "cells": [
  {
   "cell_type": "markdown",
   "metadata": {},
   "source": [
    "# Get test data"
   ]
  },
  {
   "cell_type": "code",
   "execution_count": 1,
   "metadata": {},
   "outputs": [],
   "source": [
    "import pandas as pd\n",
    "url = \"gs://wagon-data/data/bq_complete.csv\"\n",
    "df = pd.read_csv(url, nrows=1000)"
   ]
  },
  {
   "cell_type": "code",
   "execution_count": 2,
   "metadata": {},
   "outputs": [
    {
     "data": {
      "text/plain": [
       "(1000, 9)"
      ]
     },
     "execution_count": 2,
     "metadata": {},
     "output_type": "execute_result"
    }
   ],
   "source": [
    "df.shape"
   ]
  },
  {
   "cell_type": "code",
   "execution_count": 3,
   "metadata": {},
   "outputs": [],
   "source": [
    "df = df.dropna(how='any',  axis='rows')\n",
    "instances = df.drop(\"fare_amount\", axis=1).to_dict(orient=\"records\")"
   ]
  },
  {
   "cell_type": "code",
   "execution_count": 4,
   "metadata": {},
   "outputs": [
    {
     "data": {
      "text/plain": [
       "[{'dropoff_latitude': 40.758092,\n",
       "  'dropoff_longitude': -73.991567,\n",
       "  'key': '2012-04-21 04:30:42.0000001',\n",
       "  'passenger_count': 1,\n",
       "  'pickup_datetime': '2012-04-21 04:30:42 UTC',\n",
       "  'pickup_latitude': 40.733143,\n",
       "  'pickup_longitude': -73.98713000000002,\n",
       "  'test': False},\n",
       " {'dropoff_latitude': 40.783762,\n",
       "  'dropoff_longitude': -73.956655,\n",
       "  'key': '2010-03-09 07:51:00.000000135',\n",
       "  'passenger_count': 1,\n",
       "  'pickup_datetime': '2010-03-09 07:51:00 UTC',\n",
       "  'pickup_latitude': 40.768008,\n",
       "  'pickup_longitude': -73.96809499999998,\n",
       "  'test': False}]"
      ]
     },
     "execution_count": 4,
     "metadata": {},
     "output_type": "execute_result"
    }
   ],
   "source": [
    "instances[3:5]"
   ]
  },
  {
   "cell_type": "markdown",
   "metadata": {},
   "source": [
    "# Ask API for prediction"
   ]
  },
  {
   "cell_type": "code",
   "execution_count": 16,
   "metadata": {},
   "outputs": [],
   "source": [
    "api_url = \"http://127.0.0.1:8080/\"\n",
    "# api_url = \"https://wagon-api-jean.herokuapp.com/\"  "
   ]
  },
  {
   "cell_type": "code",
   "execution_count": 21,
   "metadata": {},
   "outputs": [
    {
     "name": "stdout",
     "output_type": "stream",
     "text": [
      "CPU times: user 5.06 ms, sys: 2.42 ms, total: 7.48 ms\n",
      "Wall time: 91.5 ms\n"
     ]
    }
   ],
   "source": [
    "%%time\n",
    "import requests\n",
    "r = requests.get(api_url+\"predict_fare\", json=instances[0:3])#, headers = {'content-type': 'application/json', 'Accept-Charset': 'UTF-8'})\n"
   ]
  },
  {
   "cell_type": "code",
   "execution_count": 22,
   "metadata": {},
   "outputs": [
    {
     "data": {
      "text/plain": [
       "{'predictions': [5.855, 17.496, 5.606]}"
      ]
     },
     "execution_count": 22,
     "metadata": {},
     "output_type": "execute_result"
    }
   ],
   "source": [
    "r.json()"
   ]
  },
  {
   "cell_type": "code",
   "execution_count": 23,
   "metadata": {},
   "outputs": [
    {
     "data": {
      "text/plain": [
       "{'dropoff_latitude': 40.71227800000001,\n",
       " 'dropoff_longitude': -73.84161,\n",
       " 'key': '2009-06-15 17:26:21.0000001',\n",
       " 'passenger_count': 1,\n",
       " 'pickup_datetime': '2009-06-15 17:26:21 UTC',\n",
       " 'pickup_latitude': 40.721319,\n",
       " 'pickup_longitude': -73.844311,\n",
       " 'test': False}"
      ]
     },
     "execution_count": 23,
     "metadata": {},
     "output_type": "execute_result"
    }
   ],
   "source": [
    "instances[0]"
   ]
  },
  {
   "cell_type": "code",
   "execution_count": null,
   "metadata": {},
   "outputs": [],
   "source": []
  }
 ],
 "metadata": {
  "kernelspec": {
   "display_name": "Python 3",
   "language": "python",
   "name": "python3"
  },
  "language_info": {
   "codemirror_mode": {
    "name": "ipython",
    "version": 3
   },
   "file_extension": ".py",
   "mimetype": "text/x-python",
   "name": "python",
   "nbconvert_exporter": "python",
   "pygments_lexer": "ipython3",
   "version": "3.7.1"
  },
  "pycharm": {
   "stem_cell": {
    "cell_type": "raw",
    "metadata": {
     "collapsed": false
    },
    "source": []
   }
  },
  "toc": {
   "base_numbering": 1,
   "nav_menu": {},
   "number_sections": true,
   "sideBar": true,
   "skip_h1_title": false,
   "title_cell": "Table of Contents",
   "title_sidebar": "Contents",
   "toc_cell": false,
   "toc_position": {},
   "toc_section_display": true,
   "toc_window_display": false
  }
 },
 "nbformat": 4,
 "nbformat_minor": 4
}
